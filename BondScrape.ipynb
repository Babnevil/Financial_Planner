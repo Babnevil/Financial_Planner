{
 "cells": [
  {
   "cell_type": "code",
   "execution_count": 16,
   "metadata": {},
   "outputs": [
    {
     "name": "stdout",
     "output_type": "stream",
     "text": [
      "Total Price Total Value Total Interest YTD Interest\n",
      "$1,000.00 $2,706.80 $1,706.80 $137.60\n",
      "Your bond is currently worth:  $2,706.80\n",
      "It has accumliated:  $137.60  in interest this year, and  $1,706.80  in interest over the life of the bond.\n"
     ]
    }
   ],
   "source": [
    "from selenium import webdriver\n",
    "from selenium.webdriver.support.ui import Select\n",
    "from selenium.webdriver.common.keys import Keys\n",
    "\n",
    "driver = webdriver.Firefox()\n",
    "\n",
    "driver.get('https://www.treasurydirect.gov/BC/SBCPrice')\n",
    "series = Select(driver.find_element_by_name('Series'))\n",
    "denom = Select(driver.find_element_by_name('Denomination'))\n",
    "serial = driver.find_element_by_name('SerialNumber')\n",
    "issue = driver.find_element_by_name('IssueDate')\n",
    "send = driver.find_element_by_name('btnAdd.x')\n",
    "\n",
    "#elements = driver.find_element_by_name(\"Series\")\n",
    "#all_options = elements.find_element_by_tag_name(\"option\")\n",
    "\n",
    "#ToDo, create method that accepts 0-3 as args. \n",
    "series.select_by_index(1)\n",
    "\n",
    "#ToDo, create method that accepts 0-9 as args. \n",
    "denom.select_by_index(7)\n",
    "\n",
    "#ToDo, replace hardcoded string values with variable passed through arg\n",
    "serial.send_keys(\"1121212\")\n",
    "\n",
    "issue.send_keys(\"11/2000\")\n",
    "\n",
    "send.click()\n",
    "\n",
    "#ToDo, slice and format the results\n",
    "results = driver.find_element_by_id(\"ta1\")\n",
    "print(results.text)\n",
    "values = results.text\n",
    "values = values.split()\n",
    "\n",
    "print(\"Your bond is currently worth: \", values[9])\n",
    "print(\"It has accumliated: \", values[11], \" in interest this year, and \",\n",
    "      values[10], \" in interest over the life of the bond.\")\n"
   ]
  },
  {
   "cell_type": "code",
   "execution_count": null,
   "metadata": {},
   "outputs": [],
   "source": []
  }
 ],
 "metadata": {
  "kernelspec": {
   "display_name": "Python 3",
   "language": "python",
   "name": "python3"
  },
  "language_info": {
   "codemirror_mode": {
    "name": "ipython",
    "version": 3
   },
   "file_extension": ".py",
   "mimetype": "text/x-python",
   "name": "python",
   "nbconvert_exporter": "python",
   "pygments_lexer": "ipython3",
   "version": "3.6.5"
  }
 },
 "nbformat": 4,
 "nbformat_minor": 2
}
